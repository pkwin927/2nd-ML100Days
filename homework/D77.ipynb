{
 "cells": [
  {
   "cell_type": "markdown",
   "metadata": {},
   "source": [
    "# 作業重點:\n",
    "\n",
    "(1)以, Adam, 為例, 調整 batch_size, epoch , 觀察accurancy, loss 的變化\n",
    "\n",
    "(2)以同一模型, 分別驗證 SGD, Adam, Rmsprop 的 accurancy"
   ]
  },
  {
   "cell_type": "markdown",
   "metadata": {},
   "source": [
    "# 作業目標:\n",
    "    \n",
    "    取得各種優化器的運算結果"
   ]
  },
  {
   "cell_type": "code",
   "execution_count": 1,
   "metadata": {},
   "outputs": [],
   "source": [
    "from __future__ import print_function\n",
    "\n",
    "from tensorflow.keras.datasets import cifar10\n",
    "import mxnet as mx\n",
    "import mxnet.gluon as gl\n",
    "import numpy as np\n",
    "import pandas as pd\n",
    "import sys\n",
    "\n",
    "sys.path.append('D:/MyDeepLearning/Company/Mxnet/MxnetGluon')\n",
    "import gluonbook as gb\n",
    "np.random.seed(10)"
   ]
  },
  {
   "cell_type": "code",
   "execution_count": 2,
   "metadata": {},
   "outputs": [],
   "source": [
    "\n",
    "'''\n",
    "   宣告並設定\n",
    "   batch_size：對總的樣本數進行分組，每組包含的樣本數量\n",
    "   epochs ：訓練次數\n",
    "   \n",
    "''' \n",
    "\n",
    "num_classes = 10\n",
    "\n",
    "data_augmentation = True\n",
    "num_predictions = 20\n",
    "\n"
   ]
  },
  {
   "cell_type": "code",
   "execution_count": 3,
   "metadata": {},
   "outputs": [
    {
     "name": "stdout",
     "output_type": "stream",
     "text": [
      "x_train shape: (50000, 32, 32, 3)\n",
      "50000 train samples\n",
      "10000 test samples\n"
     ]
    }
   ],
   "source": [
    "\n",
    "# The data, split between train and test sets:\n",
    "(x_train, y_train), (x_test, y_test) = cifar10.load_data()\n",
    "print('x_train shape:', x_train.shape)\n",
    "print(x_train.shape[0], 'train samples')\n",
    "print(x_test.shape[0], 'test samples')\n",
    "\n",
    "\n",
    "\n",
    "x_train_normalize = x_train.astype('float32') / 255.0\n",
    "x_test_normalize = x_test.astype('float32') / 255.0\n",
    "\n",
    "x_train_normalize = mx.nd.array(x_train_normalize).reshape((-1,3,32,32))\n",
    "x_test_normalize = mx.nd.array(x_test_normalize).reshape((-1,3,32,32))\n",
    "\n",
    "y_label_train = mx.nd.array(y_train).reshape((-1,))\n",
    "y_label_test = mx.nd.array(y_test).reshape((-1,))\n",
    "\n",
    "\n"
   ]
  },
  {
   "cell_type": "code",
   "execution_count": 4,
   "metadata": {},
   "outputs": [],
   "source": [
    "model = gl.nn.HybridSequential()\n",
    "model.add(gl.nn.Conv2D(channels = 32, kernel_size = 3, activation = 'relu',padding = 1))\n",
    "model.add(gl.nn.Dropout(rate=0.25))\n",
    "model.add(gl.nn.MaxPool2D(pool_size=2))\n",
    "model.add(gl.nn.Conv2D(channels = 64, kernel_size = 3, activation = 'relu', padding = 1))\n",
    "model.add(gl.nn.Dropout(rate=0.25))\n",
    "model.add(gl.nn.MaxPool2D(pool_size=2))\n",
    "model.add(gl.nn.Flatten())\n",
    "model.add(gl.nn.Dropout(rate=0.25))\n",
    "model.add(gl.nn.Dense(1024,activation = 'relu'))\n",
    "model.add(gl.nn.Dropout(rate=0.25))\n",
    "model.add(gl.nn.Dense(10))\n"
   ]
  },
  {
   "cell_type": "code",
   "execution_count": 5,
   "metadata": {},
   "outputs": [],
   "source": [
    "batch_size = 512\n",
    "\n",
    "dataset = gl.data.ArrayDataset(x_train_normalize, y_label_train)\n",
    "data_iter = gl.data.DataLoader(dataset, batch_size, shuffle=True)\n",
    "\n",
    "valdataset = gl.data.ArrayDataset(x_test_normalize, y_label_test)\n",
    "val_data_iter = gl.data.DataLoader(dataset, batch_size, shuffle=True)\n",
    "\n",
    "trainList = []\n",
    "testList = []\n",
    "model.initialize(mx.init.Normal(sigma=0.01),force_reinit = True, ctx = mx.gpu())  \n",
    "\n",
    "loss = gl.loss.SoftmaxCrossEntropyLoss()\n",
    "trainer = gl.Trainer(model.collect_params(), 'sgd', {'learning_rate':0.05})\n"
   ]
  },
  {
   "cell_type": "code",
   "execution_count": 6,
   "metadata": {},
   "outputs": [],
   "source": [
    "num_epochs = 500\n",
    "trainList = []\n",
    "testList = []\n",
    "\n",
    "\n",
    "for epoch in range(1, num_epochs + 1):\n",
    "    #print(epoch)\n",
    "    \n",
    "    acc = []\n",
    "    for X, y in data_iter:\n",
    "#        print(X.shape)\n",
    "        \n",
    "        X, y = X.as_in_context(mx.gpu()), y.as_in_context(mx.gpu())\n",
    "\n",
    "        with mx.autograd.record():\n",
    "            \n",
    "            l = loss(model(X), y)\n",
    "            \n",
    "        l.backward()\n",
    "        trainer.step(batch_size)\n",
    "        \n",
    "    for X,y in data_iter:\n",
    "        \n",
    "        X, y = X.as_in_context(mx.gpu()), y.as_in_context(mx.gpu())\n",
    "        \n",
    "        Trainacc = gb.ClassifierMetrics(y,model(X))\n",
    "        \n",
    "        acc.append(Trainacc)\n",
    "        \n",
    "    acc = np.mean(acc)\n",
    "        \n",
    "    trainList.append(acc)\n",
    "    \n",
    "    acc = []\n",
    "    \n",
    "    for X_val, y_val in val_data_iter:\n",
    "        \n",
    "        X, y = X_val.as_in_context(mx.gpu()), y_val.as_in_context(mx.gpu())\n",
    "        \n",
    "        Testacc = gb.ClassifierMetrics(y,model(X))\n",
    "        \n",
    "        acc.append(Trainacc)\n",
    "    \n",
    "    acc = np.mean(acc)\n",
    "    \n",
    "    testList.append(acc)\n",
    "    "
   ]
  },
  {
   "cell_type": "code",
   "execution_count": 9,
   "metadata": {},
   "outputs": [
    {
     "data": {
      "image/png": "[encoded data removed]",
      "text/plain": [
       "<Figure size 432x288 with 1 Axes>"
      ]
     },
     "metadata": {
      "needs_background": "light"
     },
     "output_type": "display_data"
    }
   ],
   "source": [
    "import matplotlib.pyplot as plt\n",
    "%matplotlib inline\n",
    "\n",
    "# Plot training & validation accuracy values\n",
    "plt.plot(trainList)\n",
    "plt.plot(testList)\n",
    "plt.title('Model accuracy')\n",
    "plt.ylabel('Accuracy')\n",
    "plt.xlabel('Epoch')\n",
    "plt.legend(['Train', 'Test'], loc='upper left')\n",
    "plt.show()\n",
    "\n"
   ]
  },
  {
   "cell_type": "code",
   "execution_count": null,
   "metadata": {},
   "outputs": [],
   "source": []
  },
  {
   "cell_type": "code",
   "execution_count": null,
   "metadata": {},
   "outputs": [],
   "source": []
  },
  {
   "cell_type": "code",
   "execution_count": null,
   "metadata": {},
   "outputs": [],
   "source": []
  }
 ],
 "metadata": {
  "kernelspec": {
   "display_name": "Python 3",
   "language": "python",
   "name": "python3"
  },
  "language_info": {
   "codemirror_mode": {
    "name": "ipython",
    "version": 3
   },
   "file_extension": ".py",
   "mimetype": "text/x-python",
   "name": "python",
   "nbconvert_exporter": "python",
   "pygments_lexer": "ipython3",
   "version": "3.7.4"
  }
 },
 "nbformat": 4,
 "nbformat_minor": 2
}
