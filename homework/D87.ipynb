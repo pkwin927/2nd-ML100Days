{
 "cells": [
  {
   "cell_type": "code",
   "execution_count": 1,
   "metadata": {},
   "outputs": [],
   "source": [
    "from __future__ import print_function\n",
    "\n",
    "from tensorflow.keras.datasets import cifar10\n",
    "import mxnet as mx\n",
    "import mxnet.gluon as gl\n",
    "import numpy as np\n",
    "import pandas as pd\n",
    "import sys\n",
    "\n",
    "sys.path.append('D:/MyDeepLearning/Company/Mxnet/MxnetGluon')\n",
    "import gluonbook as gb\n",
    "np.random.seed(10)"
   ]
  },
  {
   "cell_type": "code",
   "execution_count": 2,
   "metadata": {},
   "outputs": [],
   "source": [
    "\n",
    "'''\n",
    "   宣告並設定\n",
    "   batch_size：對總的樣本數進行分組，每組包含的樣本數量\n",
    "   epochs ：訓練次數\n",
    "   \n",
    "''' \n",
    "\n",
    "num_classes = 10\n",
    "\n",
    "data_augmentation = True\n",
    "num_predictions = 20\n",
    "\n"
   ]
  },
  {
   "cell_type": "code",
   "execution_count": 3,
   "metadata": {},
   "outputs": [],
   "source": [
    "def preproc_x(x, flatten=True):\n",
    "    min_x = np.min(x)\n",
    "    max_x = np.max(x)\n",
    "    mean_x = np.mean(x)\n",
    "    x = (x-mean_x)/(max_x-min_x)\n",
    "    \n",
    "    if flatten:\n",
    "        x = x.reshape((len(x), -1))\n",
    "    return x\n"
   ]
  },
  {
   "cell_type": "code",
   "execution_count": 4,
   "metadata": {},
   "outputs": [
    {
     "name": "stdout",
     "output_type": "stream",
     "text": [
      "x_train shape: (50000, 32, 32, 3)\n",
      "50000 train samples\n",
      "10000 test samples\n"
     ]
    }
   ],
   "source": [
    "\n",
    "# The data, split between train and test sets:\n",
    "(x_train, y_train), (x_test, y_test) = cifar10.load_data()\n",
    "print('x_train shape:', x_train.shape)\n",
    "print(x_train.shape[0], 'train samples')\n",
    "print(x_test.shape[0], 'test samples')\n",
    "\n",
    "\n",
    "# Preproc the inputs\n",
    "x_train = preproc_x(x_train)\n",
    "x_test = preproc_x(x_test)\n",
    "\n",
    "\n",
    "x_train_normalize = x_train.astype('float32')\n",
    "x_test_normalize = x_test.astype('float32')\n",
    "\n",
    "x_train_normalize = mx.nd.array(x_train_normalize).reshape((-1,3,32,32))\n",
    "x_test_normalize = mx.nd.array(x_test_normalize).reshape((-1,3,32,32))\n",
    "\n",
    "y_label_train = mx.nd.array(y_train).reshape((-1,))\n",
    "y_label_test = mx.nd.array(y_test).reshape((-1,))\n",
    "\n",
    "\n"
   ]
  },
  {
   "cell_type": "code",
   "execution_count": 5,
   "metadata": {},
   "outputs": [],
   "source": [
    "model1 = gl.nn.HybridSequential()\n",
    "model1.add(gl.nn.Conv2D(channels = 32, kernel_size = 3,padding = 1))\n",
    "model1.add(gl.nn.BatchNorm())\n",
    "model1.add(gl.nn.Activation('relu'))\n",
    "#model1.add(gl.nn.Dropout(rate=0.25))\n",
    "model1.add(gl.nn.MaxPool2D(pool_size=2))\n",
    "model1.add(gl.nn.Conv2D(channels = 64, kernel_size = 3,  padding = 1))\n",
    "model1.add(gl.nn.BatchNorm())\n",
    "model1.add(gl.nn.Activation('relu'))\n",
    "#model1.add(gl.nn.Dropout(rate=0.25))\n",
    "model1.add(gl.nn.MaxPool2D(pool_size=2))\n",
    "model1.add(gl.nn.Flatten())\n",
    "#model1.add(gl.nn.Dropout(rate=0.25))\n",
    "model1.add(gl.nn.Dense(1024,activation = 'relu'))\n",
    "model1.add(gl.nn.BatchNorm())\n",
    "#model1.add(gl.nn.Dropout(rate=0.25))\n",
    "model1.add(gl.nn.Dense(10))\n",
    "\n"
   ]
  },
  {
   "cell_type": "code",
   "execution_count": 6,
   "metadata": {},
   "outputs": [],
   "source": [
    "batch_size = 512\n",
    "\n",
    "dataset = gl.data.ArrayDataset(x_train_normalize, y_label_train)\n",
    "data_iter = gl.data.DataLoader(dataset, batch_size, shuffle=True)\n",
    "\n",
    "valdataset = gl.data.ArrayDataset(x_test_normalize, y_label_test)\n",
    "val_data_iter = gl.data.DataLoader(valdataset, batch_size, shuffle=True)\n",
    "\n",
    "#trainList = []\n",
    "#testList = []\n",
    "\n"
   ]
  },
  {
   "cell_type": "code",
   "execution_count": 10,
   "metadata": {},
   "outputs": [
    {
     "data": {
      "image/png": "[encoded data removed]",
      "text/plain": [
       "<Figure size 432x288 with 1 Axes>"
      ]
     },
     "metadata": {
      "needs_background": "light"
     },
     "output_type": "display_data"
    }
   ],
   "source": [
    "num_epochs = 50\n",
    "\n",
    "\n",
    "\n",
    "#adam = mx.optimizer.Adam(learning_rate = 0.05)\n",
    "\n",
    "#adagrad = mx.optimizer.AdaGrad(learning_rate = 0.05)\n",
    "\n",
    "#rmsprop = mx.optimizer.RMSProp(learning_rate = 0.05)\n",
    "\n",
    "#for model in [model1, model2]:\n",
    "\n",
    "model = model1\n",
    "\n",
    "trainList = []\n",
    "testList = []\n",
    "model.initialize(mx.init.Normal(sigma=0.01),force_reinit = True, ctx = mx.gpu())  \n",
    "\n",
    "\n",
    "loss = gl.loss.SoftmaxCrossEntropyLoss()\n",
    "\n",
    "\n",
    "lr = 0.05\n",
    "MaxAcc = 0\n",
    "LastEpoch = 0\n",
    "for epoch in range(1, num_epochs + 1):\n",
    "    #print(epoch)\n",
    "    if epoch >= 10:\n",
    "        lr = lr * 0.1\n",
    "    sgd = mx.optimizer.SGD(momentum = 0.75, learning_rate = lr)\n",
    "    trainer = gl.Trainer(model.collect_params(), optimizer = sgd)\n",
    "    \n",
    "    \n",
    "    acc = []\n",
    "\n",
    "    for X, y in data_iter:\n",
    "#        print(X.shape)\n",
    "\n",
    "        X, y = X.as_in_context(mx.gpu()), y.as_in_context(mx.gpu())\n",
    "\n",
    "        with mx.autograd.record():\n",
    "\n",
    "            l = loss(model(X), y)\n",
    "\n",
    "        l.backward()\n",
    "        trainer.step(batch_size)\n",
    "\n",
    "    for X,y in data_iter:\n",
    "\n",
    "        X, y = X.as_in_context(mx.gpu()), y.as_in_context(mx.gpu())\n",
    "\n",
    "        Trainacc = gb.ClassifierMetrics(y,model(X))\n",
    "\n",
    "        acc.append(Trainacc)\n",
    "\n",
    "    acc1 = np.mean(acc)\n",
    "\n",
    "    trainList.append(acc1)\n",
    "\n",
    "    acc = []\n",
    "\n",
    "    for X_val, y_val in val_data_iter:\n",
    "\n",
    "        val_X, val_y = X_val.as_in_context(mx.gpu()), y_val.as_in_context(mx.gpu())\n",
    "\n",
    "        Testacc = gb.ClassifierMetrics(val_y,model(val_X))\n",
    "\n",
    "        acc.append(Testacc)\n",
    "\n",
    "    acc1 = np.mean(acc)\n",
    "\n",
    "    testList.append(acc1)\n",
    "    \n",
    "    if MaxAcc < acc1 and abs(MaxAcc - acc1) >= 0.01:\n",
    "        \n",
    "        MaxAcc = acc1\n",
    "        LastEpoch = epoch\n",
    "        \n",
    "    elif (MaxAcc >= acc1 or abs(MaxAcc - acc1) < 0.01) and (epoch - LastEpoch) > 10:\n",
    "        \n",
    "        break\n",
    "     \n",
    "    \n",
    "\n",
    "import matplotlib.pyplot as plt\n",
    "%matplotlib inline\n",
    "\n",
    "# Plot training & validation accuracy values\n",
    "plt.plot(trainList)\n",
    "plt.plot(testList)\n",
    "plt.title('Model accuracy')\n",
    "plt.ylabel('Accuracy')\n",
    "plt.xlabel('Epoch')\n",
    "plt.legend(['Train', 'Test'], loc='upper left')\n",
    "plt.show()\n",
    "\n",
    "    "
   ]
  }
 ],
 "metadata": {
  "kernelspec": {
   "display_name": "Python 3",
   "language": "python",
   "name": "python3"
  },
  "language_info": {
   "codemirror_mode": {
    "name": "ipython",
    "version": 3
   },
   "file_extension": ".py",
   "mimetype": "text/x-python",
   "name": "python",
   "nbconvert_exporter": "python",
   "pygments_lexer": "ipython3",
   "version": "3.7.4"
  }
 },
 "nbformat": 4,
 "nbformat_minor": 2
}
